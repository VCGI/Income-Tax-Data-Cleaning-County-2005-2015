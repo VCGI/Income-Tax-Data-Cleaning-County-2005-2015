{
 "cells": [
  {
   "cell_type": "code",
   "execution_count": 1,
   "metadata": {
    "collapsed": true
   },
   "outputs": [],
   "source": [
    "import pandas as pd\n",
    "import os \n",
    "import glob"
   ]
  },
  {
   "cell_type": "markdown",
   "metadata": {},
   "source": [
    "## Purpose\n",
    "\n",
    "This notebook takes excel spreadsheets from the Vermont Department of Taxes for the whole state by County (http://tax.vermont.gov/research-and-reports/statistical-data/income-tax) and allows for quickly transforming and adding the years together. To run change the year below to the correct value and run restart and run the entire kernal. Repeat for all years until complete. "
   ]
  },
  {
   "cell_type": "code",
   "execution_count": 2,
   "metadata": {
    "collapsed": true
   },
   "outputs": [],
   "source": [
    "# Manually Change this year to match the excel file you are adding\n",
    "year = '2005'"
   ]
  },
  {
   "cell_type": "code",
   "execution_count": 3,
   "metadata": {
    "collapsed": true
   },
   "outputs": [],
   "source": [
    "# checks if this is the first time it has been run and either generates a dataframe or imports what has already been created\n",
    "if os.path.isfile('cumulativetaxincome.csv'):\n",
    "    cumltaxinc = pd.read_csv(\"cumulativetaxincome.csv\")\n",
    "else:\n",
    "    cumltaxinc =  pd.DataFrame()\n",
    "    \n",
    "if os.path.isfile('cumlctyinc.csv'):\n",
    "    cumlctyinc = pd.read_csv(\"cumlctyinc.csv\")\n",
    "else:\n",
    "    cumlctyinc = pd.DataFrame()\n",
    "    \n",
    "if os.path.isfile('cumlctyinctotal.csv'):\n",
    "    cumlctyinctotal = pd.read_csv(\"cumlctyinctotal.csv\")\n",
    "else:\n",
    "    cumlctyinctotal = pd.DataFrame()"
   ]
  },
  {
   "cell_type": "code",
   "execution_count": 4,
   "metadata": {},
   "outputs": [
    {
     "name": "stdout",
     "output_type": "stream",
     "text": [
      "Years already stored for Towns:[2005 2006 2007 2008 2009 2010 2011 2012 2013 2014]\n",
      "Years already stored for County:[2005 2006 2007 2008 2009 2010 2011 2012 2013 2014]\n"
     ]
    }
   ],
   "source": [
    "# Tells you what years already exist in the CSV used to add all the data together, it will alway be on year behind what you are running\n",
    "if cumltaxinc.empty:\n",
    "    print('New Town Dataframe Created')\n",
    "else:\n",
    "    print(\"Years already stored for Towns:\" + str(pd.unique(cumltaxinc['Year'])))\n",
    "    \n",
    "if cumlctyinc.empty:\n",
    "    print('New County Dataframe Created')\n",
    "else:\n",
    "    print(\"Years already stored for County:\" + str(pd.unique(cumlctyinc['Year'])))"
   ]
  },
  {
   "cell_type": "code",
   "execution_count": 5,
   "metadata": {},
   "outputs": [
    {
     "data": {
      "text/plain": [
       "['.\\\\income_stats_2005_county.xls',\n",
       " '.\\\\income_stats_2006_county.xls',\n",
       " '.\\\\income_stats_2007_county.xls',\n",
       " '.\\\\income_stats_2008_county.xls',\n",
       " '.\\\\income_stats_2009_county.xls',\n",
       " '.\\\\income_stats_2010_county.xls',\n",
       " '.\\\\income_stats_2011_county.xls',\n",
       " '.\\\\income_stats_2012_county.xls',\n",
       " '.\\\\income_stats_2013_county.xls',\n",
       " '.\\\\income_stats_2014_county.xls',\n",
       " '.\\\\income_stats_2015_county.xls']"
      ]
     },
     "execution_count": 5,
     "metadata": {},
     "output_type": "execute_result"
    }
   ],
   "source": [
    "# Returns what xls files are in the folder\n",
    "glob.glob('./*.xls')"
   ]
  },
  {
   "cell_type": "markdown",
   "metadata": {},
   "source": [
    "## Import and Parse \n",
    "\n",
    "This brings in the excel sheet and splits it into seperate dataframe objects that can be transformed. In the process it also skips rows that are not needed and deletes blank rows that were there for stylistic reasons."
   ]
  },
  {
   "cell_type": "code",
   "execution_count": 6,
   "metadata": {},
   "outputs": [
    {
     "name": "stdout",
     "output_type": "stream",
     "text": [
      "['CountyNum', 'CountyDol', 'CtyInc']\n"
     ]
    }
   ],
   "source": [
    "# Imports excel file and gives list of sheets\n",
    "data = pd.ExcelFile('income_stats_'+year+'_county.xls')\n",
    "colList = data.sheet_names\n",
    "print(colList)"
   ]
  },
  {
   "cell_type": "code",
   "execution_count": 7,
   "metadata": {
    "collapsed": true
   },
   "outputs": [],
   "source": [
    "# Parse each sheet into it's own dataframes\n",
    "ctycnt = data.parse('CountyNum',  skiprows=2)\n",
    "ctydol = data.parse('CountyDol',  skiprows=2)\n",
    "ctyinc = data.parse('CtyInc',  skiprows=2)\n"
   ]
  },
  {
   "cell_type": "code",
   "execution_count": 8,
   "metadata": {
    "collapsed": true
   },
   "outputs": [],
   "source": [
    "# Remove the several blank rows from the spreadsheet\n",
    "def removeNA(dfname):\n",
    "    dfname = dfname[(dfname.iloc[:,0].notnull())]\n",
    "    return dfname\n",
    " \n",
    "ctycnt = removeNA(ctycnt)\n",
    "ctydol = removeNA(ctydol)\n",
    "ctyinc = removeNA(ctyinc)"
   ]
  },
  {
   "cell_type": "markdown",
   "metadata": {},
   "source": [
    "## Modify Column Names\n",
    "Shapefiles inheriently have a limit of 10 characters for column names, so in order to prevent croping of names later on names are changed to be useable even in shapefiles. Since not all of the spreadsheets had the same number of columns there are several sequences to deal with that variable."
   ]
  },
  {
   "cell_type": "code",
   "execution_count": 9,
   "metadata": {},
   "outputs": [
    {
     "data": {
      "text/plain": [
       "Index(['County', 'Returns', 'Exempt', 'Married Joint', 'Single',\n",
       "       'Married Separate', 'Head of Household',\n",
       "       'Other State & Vermont Credits', 'Withheld', 'Estimate', 'Adjusted',\n",
       "       'No Tax', 'Earned Income Credit'],\n",
       "      dtype='object')"
      ]
     },
     "execution_count": 9,
     "metadata": {},
     "output_type": "execute_result"
    }
   ],
   "source": [
    "# Displays columns names from df for troubleshooting if needed\n",
    "ctycnt.columns"
   ]
  },
  {
   "cell_type": "code",
   "execution_count": 10,
   "metadata": {
    "collapsed": true
   },
   "outputs": [],
   "source": [
    "# Changes column names\n",
    "ctycntcol = ['County', 'Return', 'Exempt', 'MarJnt', 'Single',\n",
    "       'MarSep', 'HdHous', 'OthCrd','Wthhld', 'Estmt', 'Adjstd', 'NoTax', 'EIC']\n",
    "ctycnt.columns = ctycntcol"
   ]
  },
  {
   "cell_type": "code",
   "execution_count": 11,
   "metadata": {},
   "outputs": [
    {
     "data": {
      "text/plain": [
       "Index(['County', 'Returns', 'Adjusted Gross Income', 'Federal Taxable Income',\n",
       "       'Vermont Taxable Income', 'Adjusted Vermont Tax',\n",
       "       'Other State & Vermont Credits', 'Net Vermont Tax',\n",
       "       'Earned Income Credit', 'Average AGI per Exemption'],\n",
       "      dtype='object')"
      ]
     },
     "execution_count": 11,
     "metadata": {},
     "output_type": "execute_result"
    }
   ],
   "source": [
    "# Displays columns names from df for troubleshooting if needed\n",
    "ctydol.columns"
   ]
  },
  {
   "cell_type": "code",
   "execution_count": 12,
   "metadata": {
    "collapsed": true
   },
   "outputs": [],
   "source": [
    "# Changes column names\n",
    "ctydolcol = ['County', 'Return', 'AGI', 'FedTI', 'VTI','AdjVTx',\n",
    "             'OthCrd', 'NetVTax', 'EIC', 'AdjAGI']\n",
    "ctydol.columns = ctydolcol\n",
    "\n",
    "# This df will be merged with others that already have # of Returns so that is removed\n",
    "del ctydol['Return']"
   ]
  },
  {
   "cell_type": "code",
   "execution_count": 13,
   "metadata": {},
   "outputs": [
    {
     "data": {
      "text/plain": [
       "Index(['AGI Income Bracket', 'Returns', 'Exempt', 'Married Joint', 'Single',\n",
       "       'Married Separate', 'Head of Household', 'Adjusted Gross Income',\n",
       "       'Federal Taxable Income', 'Vermont Taxable Income', 'Net Vermont Tax'],\n",
       "      dtype='object')"
      ]
     },
     "execution_count": 13,
     "metadata": {},
     "output_type": "execute_result"
    }
   ],
   "source": [
    "# Displays columns names from df for troubleshooting if needed\n",
    "ctyinc.columns"
   ]
  },
  {
   "cell_type": "code",
   "execution_count": 14,
   "metadata": {
    "collapsed": true
   },
   "outputs": [],
   "source": [
    "# Changes column names\n",
    "ctyinccol = ['AGIClss', 'Return', 'Exempt', 'MarJnt', 'Single',\n",
    "             'MarSep', 'HdHous', 'AGI','FedTI', 'VTI', 'NetVTax']\n",
    "ctyinc.columns = ctyinccol"
   ]
  },
  {
   "cell_type": "markdown",
   "metadata": {},
   "source": [
    "## Add Prefix\n",
    "Since these dataframes are going to be merge, prefixes are added for clarity. Some of the data is count, and some is currency so it is important to be able to understand what is what. "
   ]
  },
  {
   "cell_type": "code",
   "execution_count": 15,
   "metadata": {
    "collapsed": true
   },
   "outputs": [],
   "source": [
    "# Adds a prefix to every column\n",
    "ctycnt = ctycnt.add_prefix(\"Cnt_\")\n",
    "ctydol = ctydol.add_prefix(\"Dol_\")"
   ]
  },
  {
   "cell_type": "markdown",
   "metadata": {},
   "source": [
    "## Merge Data Together \n",
    "This combines data together into a set that describes counts and dollar amounts and another one that has demographic splits based on age. Because I have set the index to be the County it makes the merge easier but then I reset it back to a generated numeric value for usability."
   ]
  },
  {
   "cell_type": "code",
   "execution_count": 16,
   "metadata": {
    "collapsed": true
   },
   "outputs": [],
   "source": [
    "#Concat Taxes together\n",
    "taxcomb = pd.concat([ctycnt.set_index(ctycnt.columns[0]),ctydol.set_index(ctydol.columns[0])],\n",
    "                    axis=1, join='inner').reset_index()"
   ]
  },
  {
   "cell_type": "code",
   "execution_count": 17,
   "metadata": {
    "collapsed": true
   },
   "outputs": [],
   "source": [
    "# Adds Year to dataframe\n",
    "taxcomb['Year'] = year\n",
    "\n",
    "# renames index and drops state totals from dataframe\n",
    "taxcomb.rename(columns = {'index':'County'}, inplace=True)\n",
    "taxcomb = taxcomb[(taxcomb['County'] != \"Vermont\")]\n",
    "\n",
    "# Reorder columns to be easier to understand \n",
    "taxcomb = taxcomb[['Year','County', 'Cnt_Return', 'Cnt_Exempt', 'Cnt_MarJnt', 'Cnt_Single',\n",
    "       'Cnt_MarSep', 'Cnt_HdHous', 'Cnt_OthCrd', 'Cnt_Wthhld', 'Cnt_Estmt',\n",
    "       'Cnt_Adjstd', 'Cnt_NoTax', 'Cnt_EIC', 'Dol_AGI',\n",
    "       'Dol_FedTI', 'Dol_VTI', 'Dol_AdjVTx', 'Dol_OthCrd', 'Dol_NetVTax',\n",
    "       'Dol_EIC', 'Dol_AdjAGI']]"
   ]
  },
  {
   "cell_type": "markdown",
   "metadata": {},
   "source": [
    "## AGI Income County Names\n",
    "\n",
    "The original excel files did not place the county name on each line but rather at the top of section of Adjusted Gross Income breakdowns. This means that it cannot be easily sorted, or joined to a geospatial dataset, without some intense modification. Below is a for loop meant to create the correct town name as appropriate. "
   ]
  },
  {
   "cell_type": "code",
   "execution_count": 18,
   "metadata": {},
   "outputs": [
    {
     "data": {
      "text/html": [
       "<div>\n",
       "<style>\n",
       "    .dataframe thead tr:only-child th {\n",
       "        text-align: right;\n",
       "    }\n",
       "\n",
       "    .dataframe thead th {\n",
       "        text-align: left;\n",
       "    }\n",
       "\n",
       "    .dataframe tbody tr th {\n",
       "        vertical-align: top;\n",
       "    }\n",
       "</style>\n",
       "<table border=\"1\" class=\"dataframe\">\n",
       "  <thead>\n",
       "    <tr style=\"text-align: right;\">\n",
       "      <th></th>\n",
       "      <th>AGIClss</th>\n",
       "      <th>Return</th>\n",
       "      <th>Exempt</th>\n",
       "      <th>MarJnt</th>\n",
       "      <th>Single</th>\n",
       "      <th>MarSep</th>\n",
       "      <th>HdHous</th>\n",
       "      <th>AGI</th>\n",
       "      <th>FedTI</th>\n",
       "      <th>VTI</th>\n",
       "      <th>NetVTax</th>\n",
       "    </tr>\n",
       "  </thead>\n",
       "  <tbody>\n",
       "    <tr>\n",
       "      <th>0</th>\n",
       "      <td>Addison</td>\n",
       "      <td>NaN</td>\n",
       "      <td>NaN</td>\n",
       "      <td>NaN</td>\n",
       "      <td>NaN</td>\n",
       "      <td>NaN</td>\n",
       "      <td>NaN</td>\n",
       "      <td>NaN</td>\n",
       "      <td>NaN</td>\n",
       "      <td>NaN</td>\n",
       "      <td>NaN</td>\n",
       "    </tr>\n",
       "    <tr>\n",
       "      <th>1</th>\n",
       "      <td>Loss or None</td>\n",
       "      <td>232.0</td>\n",
       "      <td>336.0</td>\n",
       "      <td>84.0</td>\n",
       "      <td>131.0</td>\n",
       "      <td>10.0</td>\n",
       "      <td>7.0</td>\n",
       "      <td>-10807682.00</td>\n",
       "      <td>37131.00</td>\n",
       "      <td>42603.00</td>\n",
       "      <td>2414.0000</td>\n",
       "    </tr>\n",
       "    <tr>\n",
       "      <th>2</th>\n",
       "      <td>0.01 - 4999</td>\n",
       "      <td>1501.0</td>\n",
       "      <td>1075.0</td>\n",
       "      <td>121.0</td>\n",
       "      <td>1326.0</td>\n",
       "      <td>13.0</td>\n",
       "      <td>41.0</td>\n",
       "      <td>3840794.00</td>\n",
       "      <td>102583.00</td>\n",
       "      <td>86173.00</td>\n",
       "      <td>3193.1053</td>\n",
       "    </tr>\n",
       "    <tr>\n",
       "      <th>3</th>\n",
       "      <td>5000 - 9999</td>\n",
       "      <td>1458.0</td>\n",
       "      <td>1340.0</td>\n",
       "      <td>144.0</td>\n",
       "      <td>1213.0</td>\n",
       "      <td>11.0</td>\n",
       "      <td>90.0</td>\n",
       "      <td>10840696.00</td>\n",
       "      <td>727374.00</td>\n",
       "      <td>705123.00</td>\n",
       "      <td>24381.3340</td>\n",
       "    </tr>\n",
       "    <tr>\n",
       "      <th>4</th>\n",
       "      <td>10000 - 14999</td>\n",
       "      <td>1185.0</td>\n",
       "      <td>1446.0</td>\n",
       "      <td>164.0</td>\n",
       "      <td>910.0</td>\n",
       "      <td>19.0</td>\n",
       "      <td>92.0</td>\n",
       "      <td>14676139.69</td>\n",
       "      <td>2207784.68</td>\n",
       "      <td>2187745.68</td>\n",
       "      <td>74491.0521</td>\n",
       "    </tr>\n",
       "  </tbody>\n",
       "</table>\n",
       "</div>"
      ],
      "text/plain": [
       "         AGIClss  Return  Exempt  MarJnt  Single  MarSep  HdHous          AGI  \\\n",
       "0        Addison     NaN     NaN     NaN     NaN     NaN     NaN          NaN   \n",
       "1   Loss or None   232.0   336.0    84.0   131.0    10.0     7.0 -10807682.00   \n",
       "2    0.01 - 4999  1501.0  1075.0   121.0  1326.0    13.0    41.0   3840794.00   \n",
       "3    5000 - 9999  1458.0  1340.0   144.0  1213.0    11.0    90.0  10840696.00   \n",
       "4  10000 - 14999  1185.0  1446.0   164.0   910.0    19.0    92.0  14676139.69   \n",
       "\n",
       "        FedTI         VTI     NetVTax  \n",
       "0         NaN         NaN         NaN  \n",
       "1    37131.00    42603.00   2414.0000  \n",
       "2   102583.00    86173.00   3193.1053  \n",
       "3   727374.00   705123.00  24381.3340  \n",
       "4  2207784.68  2187745.68  74491.0521  "
      ]
     },
     "execution_count": 18,
     "metadata": {},
     "output_type": "execute_result"
    }
   ],
   "source": [
    "ctyinc.head(5)"
   ]
  },
  {
   "cell_type": "code",
   "execution_count": 19,
   "metadata": {
    "collapsed": true
   },
   "outputs": [],
   "source": [
    "# define what are valid names for each row \n",
    "cnty = ['Addison','Bennington','Caledonia','Chittenden','Essex','Franklin',\n",
    "        'Grand Isle','Lamoille','Orange','Orleans','Rutland','Washington','Windham',\n",
    "        'Windsor','Suppressed/Not Stated','Suppressed']"
   ]
  },
  {
   "cell_type": "code",
   "execution_count": 20,
   "metadata": {
    "collapsed": true
   },
   "outputs": [],
   "source": [
    "# Iterate through the list and if the value matches the list, return that value, otherwise return the previous value\n",
    "data = ctyinc['AGIClss']\n",
    "data = list(data)\n",
    "\n",
    "newname = []\n",
    "index1= 0\n",
    "index2= -1 \n",
    "\n",
    "for x in data:\n",
    "    if data[index1] in cnty:\n",
    "        newname.append(data[index1])\n",
    "    else:\n",
    "        newname.append(newname[index2])\n",
    "    index1+=1\n",
    "    index2+=1"
   ]
  },
  {
   "cell_type": "code",
   "execution_count": 21,
   "metadata": {
    "collapsed": true
   },
   "outputs": [],
   "source": [
    "# Add a county column with the new information, add year and removed the NA rows that used to contain the county name\n",
    "ctyinc['Cnty'] = newname\n",
    "\n",
    "# Adds the year for all rows\n",
    "ctyinc['Year'] = year\n",
    "\n",
    "# removed footnotes\n",
    "ctyinc = ctyinc[(ctyinc['Return'].notnull())]"
   ]
  },
  {
   "cell_type": "markdown",
   "metadata": {},
   "source": [
    "## Column Order\n",
    "\n",
    "In order for this data to be intuative, changing column order in necessary. First year, then county and then the AGI Class means that this data can be cut numerious ways"
   ]
  },
  {
   "cell_type": "code",
   "execution_count": 22,
   "metadata": {
    "collapsed": true
   },
   "outputs": [],
   "source": [
    "# Reorder columns to be easier to understand \n",
    "ctyinc = ctyinc[['Year','Cnty','AGIClss', 'Return', 'Exempt', 'MarJnt', 'Single', 'MarSep', 'HdHous',\n",
    "                 'AGI', 'FedTI', 'VTI', 'NetVTax']]"
   ]
  },
  {
   "cell_type": "code",
   "execution_count": 23,
   "metadata": {
    "collapsed": true
   },
   "outputs": [],
   "source": [
    "# Splits Grand Totals in it's own dataframe\n",
    "ctyinctotal = ctyinc[(ctyinc['AGIClss'] == \"Grand Total\")]\n",
    "ctyinc = ctyinc[(ctyinc['AGIClss'] != \"Grand Total\")]\n",
    "\n",
    "# Removes two occasions where footnotes were included\n",
    "taxcomb = taxcomb[(taxcomb['County'] != \"* Suppressed county also contains instate returns where town was not stated.\")]\n",
    "\n",
    "# Deletes column that had the words \"Grand Total\"\n",
    "del ctyinctotal['AGIClss']"
   ]
  },
  {
   "cell_type": "markdown",
   "metadata": {},
   "source": [
    "## Add to Running Data/Export as CSV\n",
    "\n",
    "This conditionally adds what has just been done to the cumlative CSV we loaded in the beginning. If this is the first time it was run it takes what was created and makes it into the cumlative file, if not it attaches it at the end. It then writes it to the cumlative csv file that serves to add all the years into one place."
   ]
  },
  {
   "cell_type": "code",
   "execution_count": 24,
   "metadata": {
    "collapsed": true
   },
   "outputs": [],
   "source": [
    "if cumltaxinc.empty:\n",
    "    cumltaxinc = taxcomb \n",
    "else:\n",
    "    cumltaxinc = cumltaxinc.append(taxcomb, ignore_index=True)\n",
    "    \n",
    "if cumlctyinc.empty:\n",
    "    cumlctyinc = ctyinc\n",
    "else:\n",
    "    cumlctyinc = cumlctyinc.append(ctyinc, ignore_index=True)\n",
    "    \n",
    "if cumlctyinctotal.empty:\n",
    "    cumlctyinctotal = ctyinctotal\n",
    "else:\n",
    "    cumlctyinctotal = cumlctyinctotal.append(ctyinctotal, ignore_index=True)"
   ]
  },
  {
   "cell_type": "code",
   "execution_count": 25,
   "metadata": {
    "collapsed": true
   },
   "outputs": [],
   "source": [
    "# Creates/overwrites to the CSV file with the additional year\n",
    "cumltaxinc.to_csv(\"cumulativetaxincome.csv\", index=False)\n",
    "cumlctyinc.to_csv(\"cumlctyinc.csv\", index=False)\n",
    "cumlctyinctotal.to_csv(\"cumlctyinctotal.csv\", index=False)"
   ]
  },
  {
   "cell_type": "markdown",
   "metadata": {
    "collapsed": true
   },
   "source": [
    "## Summary\n",
    "\n",
    "This notebook is set up to be manually run by the user changing the Year value at the very beginning and everything else should work automatically. If you have already run several years and need to restart, make sure to delete the cumlative CSVs otherwise it will keep adding to that file. This is built to deal with current format irregularities in the spreadsheet format but may not work if that changes in the future. "
   ]
  }
 ],
 "metadata": {
  "kernelspec": {
   "display_name": "Python 3",
   "language": "python",
   "name": "python3"
  },
  "language_info": {
   "codemirror_mode": {
    "name": "ipython",
    "version": 3
   },
   "file_extension": ".py",
   "mimetype": "text/x-python",
   "name": "python",
   "nbconvert_exporter": "python",
   "pygments_lexer": "ipython3",
   "version": "3.6.1"
  }
 },
 "nbformat": 4,
 "nbformat_minor": 2
}
